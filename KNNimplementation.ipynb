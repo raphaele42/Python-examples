{
  "nbformat": 4,
  "nbformat_minor": 0,
  "metadata": {
    "colab": {
      "name": "KNNimplementation.ipynb",
      "provenance": [],
      "authorship_tag": "ABX9TyPBIgxxq65L51dGZN6S39gr",
      "include_colab_link": true
    },
    "kernelspec": {
      "name": "python3",
      "display_name": "Python 3"
    }
  },
  "cells": [
    {
      "cell_type": "markdown",
      "metadata": {
        "id": "view-in-github",
        "colab_type": "text"
      },
      "source": [
        "<a href=\"https://colab.research.google.com/github/raphaele42/Python-examples/blob/master/KNNimplementation.ipynb\" target=\"_parent\"><img src=\"https://colab.research.google.com/assets/colab-badge.svg\" alt=\"Open In Colab\"/></a>"
      ]
    },
    {
      "cell_type": "code",
      "metadata": {
        "id": "nIVkaJbUVuDW",
        "colab_type": "code",
        "colab": {}
      },
      "source": [
        "Implementation of the k nearest neighbours algorithm"
      ],
      "execution_count": 0,
      "outputs": []
    },
    {
      "cell_type": "markdown",
      "metadata": {
        "id": "6ZGREtWwVzlN",
        "colab_type": "text"
      },
      "source": [
        "k nearest neighbours algorithm applied on a sample of ~4000 observations the TunedIT data set, classified as either rock or not rock. There are 191 characteristics for each observations. The last variable RockOrNot denotes if the observation is either rock (1) or not rock (0)."
      ]
    },
    {
      "cell_type": "code",
      "metadata": {
        "id": "MOc41CLvV3OU",
        "colab_type": "code",
        "colab": {}
      },
      "source": [
        "# Import packages\n",
        "from pandas import Series, DataFrame\n",
        "import pandas as pd\n",
        "import numpy as np\n",
        "import numpy.random as npr\n",
        "import random"
      ],
      "execution_count": 0,
      "outputs": []
    },
    {
      "cell_type": "markdown",
      "metadata": {
        "id": "tdYuFOO3WSZM",
        "colab_type": "text"
      },
      "source": [
        "Load in the data and look at the data. "
      ]
    },
    {
      "cell_type": "code",
      "metadata": {
        "id": "Lg5UGr0AWW0F",
        "colab_type": "code",
        "colab": {
          "base_uri": "https://localhost:8080/",
          "height": 221
        },
        "outputId": "10b4196f-1a2f-4b09-cff7-2cfd35ba6739"
      },
      "source": [
        "data = pd.read_csv('tunedit_genres.csv')\n",
        "data.head()  #view 5 first observations\n",
        "data.describe()  #summary stats\n",
        "data.dtypes  #check variables data type"
      ],
      "execution_count": 2,
      "outputs": [
        {
          "output_type": "execute_result",
          "data": {
            "text/plain": [
              "PAR_TC                    float64\n",
              "PAR_SC                    float64\n",
              "PAR_SC_V                  float64\n",
              "PAR_ASE1                  float64\n",
              "PAR_ASE2                  float64\n",
              "                           ...   \n",
              "PAR_2RMS_TCD_10FR_MEAN    float64\n",
              "PAR_2RMS_TCD_10FR_VAR     float64\n",
              "PAR_3RMS_TCD_10FR_MEAN    float64\n",
              "PAR_3RMS_TCD_10FR_VAR     float64\n",
              "RockOrNot                   int64\n",
              "Length: 192, dtype: object"
            ]
          },
          "metadata": {
            "tags": []
          },
          "execution_count": 2
        }
      ]
    }
  ]
}